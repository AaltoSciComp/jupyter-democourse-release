{
 "cells": [
  {
   "cell_type": "code",
   "execution_count": null,
   "metadata": {},
   "outputs": [],
   "source": [
    "import os"
   ]
  },
  {
   "cell_type": "code",
   "execution_count": null,
   "metadata": {},
   "outputs": [],
   "source": [
    "if os.path.exists('/coursedata'):\n",
    "    COURSEDATA = '/coursedata'\n",
    "else:\n",
    "    COURSEDATA = '.'"
   ]
  },
  {
   "cell_type": "code",
   "execution_count": null,
   "metadata": {},
   "outputs": [],
   "source": [
    "# I copied /usr/share/dict/words from my Linux workstation to the data directory\n",
    "# using the workstation mount"
   ]
  },
  {
   "cell_type": "code",
   "execution_count": null,
   "metadata": {},
   "outputs": [],
   "source": [
    "import pandas"
   ]
  },
  {
   "cell_type": "code",
   "execution_count": null,
   "metadata": {},
   "outputs": [],
   "source": [
    "df = pandas.read_csv(os.path.join(COURSEDATA, 'words.txt'))"
   ]
  },
  {
   "cell_type": "code",
   "execution_count": null,
   "metadata": {},
   "outputs": [],
   "source": [
    "df.head()"
   ]
  },
  {
   "cell_type": "code",
   "execution_count": null,
   "metadata": {
    "deletable": false,
    "nbgrader": {
     "cell_type": "code",
     "checksum": "dba2c25fba83b5c29136e065b18a2897",
     "grade": false,
     "grade_id": "cell-64c99be11824d217",
     "locked": false,
     "schema_version": 3,
     "solution": true,
     "task": false
    }
   },
   "outputs": [],
   "source": [
    "# This is a student answer cell, so it must be marked \"Autograded answer\"\n",
    "\n",
    "# Calculate the mean of all the length of all words\n",
    "def mean_of_column(column):\n",
    "    # YOUR CODE HERE\n",
    "    raise NotImplementedError()\n",
    "    return mean"
   ]
  },
  {
   "cell_type": "code",
   "execution_count": null,
   "metadata": {
    "deletable": false,
    "editable": false,
    "nbgrader": {
     "cell_type": "code",
     "checksum": "63130bc203a77fc639ccb8d522139d90",
     "grade": false,
     "grade_id": "cell-fb77a1d1d7a34e85",
     "locked": true,
     "schema_version": 3,
     "solution": false,
     "task": false
    }
   },
   "outputs": [],
   "source": [
    "# This cell is read-only, because why not?\n",
    "\n",
    "# Let's make and test some testdata\n",
    "df_test = pandas.DataFrame({\"testwords\": [\"dog\", \"cat\", \"camel\"]})\n",
    "assert abs(mean_of_column(df_test['testwords']) - 3.66666 ) < .0001"
   ]
  },
  {
   "cell_type": "code",
   "execution_count": null,
   "metadata": {},
   "outputs": [],
   "source": [
    "# This is a normal cell, that students can edit.  We hope they play around\n",
    "# with things here and learn something.\n",
    "mean_of_column(df['A'])"
   ]
  },
  {
   "cell_type": "code",
   "execution_count": null,
   "metadata": {
    "deletable": false,
    "editable": false,
    "nbgrader": {
     "cell_type": "code",
     "checksum": "4b3efb23975288700987649ad3bc31c2",
     "grade": true,
     "grade_id": "cell-b5655049d503321c",
     "locked": true,
     "points": 0,
     "schema_version": 3,
     "solution": false,
     "task": false
    }
   },
   "outputs": [],
   "source": [
    "# This is marked \"autograder tests\", so can not be edited\n",
    "assert abs(mean_of_column(df['A']) - 8.46449) < .0001"
   ]
  },
  {
   "cell_type": "markdown",
   "metadata": {},
   "source": [
    "# Reflection\n",
    "Please describe, in your own words, why the mean of the entire words file:"
   ]
  },
  {
   "cell_type": "markdown",
   "metadata": {
    "deletable": false,
    "editable": false,
    "nbgrader": {
     "cell_type": "markdown",
     "checksum": "b3e678fe14ffea6ec8ca8e053cd73282",
     "grade": false,
     "grade_id": "cell-6b0714966446395d",
     "locked": true,
     "points": 0,
     "schema_version": 3,
     "solution": false,
     "task": true
    }
   },
   "source": [
    "(this cell is \"manually graded task\" - markdown)\n",
    "\n",
    "Please answer here"
   ]
  },
  {
   "cell_type": "markdown",
   "metadata": {},
   "source": [
    "Write a function to test standard deviation of all words:"
   ]
  },
  {
   "cell_type": "code",
   "execution_count": null,
   "metadata": {
    "deletable": false,
    "nbgrader": {
     "cell_type": "code",
     "checksum": "e2df0e1395323618409a68c3f19d8e4b",
     "grade": true,
     "grade_id": "cell-b6a45d75ebb21b41",
     "locked": false,
     "points": 0,
     "schema_version": 3,
     "solution": true,
     "task": false
    }
   },
   "outputs": [],
   "source": [
    "# YOUR CODE HERE\n",
    "raise NotImplementedError()"
   ]
  }
 ],
 "metadata": {
  "kernelspec": {
   "display_name": "Python 3",
   "language": "python",
   "name": "python3"
  },
  "language_info": {
   "codemirror_mode": {
    "name": "ipython",
    "version": 3
   },
   "file_extension": ".py",
   "mimetype": "text/x-python",
   "name": "python",
   "nbconvert_exporter": "python",
   "pygments_lexer": "ipython3",
   "version": "3.6.8"
  }
 },
 "nbformat": 4,
 "nbformat_minor": 2
}
